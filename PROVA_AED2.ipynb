{
 "cells": [
  {
   "cell_type": "markdown",
   "id": "10ba458d-76d2-40b6-aecb-41b503c0b96b",
   "metadata": {},
   "source": [
    "# PROVA AED 2\n",
    "\n",
    "Implemente uma função que conte o número de elementos em uma lista encadeada. A função deve percorrer a lista e retornar o total de elementos.\n",
    "\n",
    "`Especificações:`\n",
    "* A lista deve armazenar números inteiros.\n",
    "* Implemente uma função que percorre a lista e conta quantos elementos estão inseridos.\n",
    "* Leve em consideração a implementação fornecida a seguir\n",
    "\n",
    "__\n",
    "\n",
    "`Inserindo números na lista encadeada:`\n",
    "\n",
    "    inserir(5) \n",
    "    inserir(15) \n",
    "    inserir(25) \n",
    "\n",
    "`Contando o número de elementos`\n",
    "\n",
    "    print(contar())     # saída esperada: 3\n",
    "  "
   ]
  },
  {
   "cell_type": "markdown",
   "id": "c9d36c2f-0473-4770-919a-5c632e6d75e2",
   "metadata": {},
   "source": [
    "    class No:\n",
    "        def __init__(self, valor):\n",
    "            self.valor = valor\n",
    "            self.proximo = None\n",
    "    \n",
    "    class ListaEncadeada:\n",
    "        def __init__(self):\n",
    "            self.inicio = None\n",
    "    \n",
    "        def inserir(self, valor):\n",
    "            novo_no = No(valor)\n",
    "            if self.inicio is None:\n",
    "                self.inicio = novo_no\n",
    "            else:\n",
    "                atual = self.inicio\n",
    "                while atual.proximo:\n",
    "                    atual = atual.proximo\n",
    "                atual.proximo = novo_no\n",
    "    \n",
    "        def contar(self):\n",
    "            contador = 0\n",
    "            atual = self.inicio\n",
    "            while atual:\n",
    "                contador += 1\n",
    "                atual = atual.proximo\n",
    "            return contador\n",
    "    \n",
    "\n"
   ]
  },
  {
   "cell_type": "code",
   "execution_count": 7,
   "id": "443b0d99-6eb5-4298-9e22-450b1ebcbfc0",
   "metadata": {},
   "outputs": [
    {
     "name": "stdout",
     "output_type": "stream",
     "text": [
      "5\n"
     ]
    }
   ],
   "source": [
    "class No:\n",
    "    __slots__ = ['valor', 'proximo']  \n",
    "    \n",
    "    def __init__(self, valor):\n",
    "        self.valor = valor\n",
    "        self.proximo = None\n",
    "\n",
    "class ListaEncadeada:\n",
    "    def __init__(self):\n",
    "        self.inicio = None\n",
    "        self._tamanho = 0 \n",
    "    \n",
    "    def inserir(self, valor):\n",
    "        novo_no = No(valor)\n",
    "        if self.inicio is None:\n",
    "            self.inicio = novo_no\n",
    "        else:\n",
    "            atual = self.inicio\n",
    "            while atual.proximo:\n",
    "                atual = atual.proximo\n",
    "            atual.proximo = novo_no\n",
    "        self._tamanho += 1\n",
    "    \n",
    "    def contar(self):\n",
    "        return self._tamanho\n",
    "    \n",
    "    def __len__(self):  \n",
    "        return self._tamanho\n",
    "\n",
    "# Exemplo de uso\n",
    "l = ListaEncadeada()\n",
    "l.inserir(5)\n",
    "l.inserir(15)\n",
    "l.inserir(25)\n",
    "l.inserir(30)\n",
    "l.inserir(35)\n",
    "print(l.contar())  # saída: 5"
   ]
  }
 ],
 "metadata": {
  "kernelspec": {
   "display_name": "Python 3 (ipykernel)",
   "language": "python",
   "name": "python3"
  },
  "language_info": {
   "codemirror_mode": {
    "name": "ipython",
    "version": 3
   },
   "file_extension": ".py",
   "mimetype": "text/x-python",
   "name": "python",
   "nbconvert_exporter": "python",
   "pygments_lexer": "ipython3",
   "version": "3.13.1"
  }
 },
 "nbformat": 4,
 "nbformat_minor": 5
}
